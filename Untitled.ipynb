{
 "cells": [
  {
   "cell_type": "code",
   "execution_count": 1,
   "id": "232b73a8-6324-421c-aef9-dc8afe7fb357",
   "metadata": {
    "tags": []
   },
   "outputs": [],
   "source": [
    "import numpy as np"
   ]
  },
  {
   "cell_type": "code",
   "execution_count": 2,
   "id": "a651f063-a29d-4769-990d-b6cbe59de49a",
   "metadata": {
    "tags": []
   },
   "outputs": [],
   "source": [
    "a = np.random.randint(0,13,(50,))"
   ]
  },
  {
   "cell_type": "code",
   "execution_count": 5,
   "id": "3d8190d5-f204-4769-9966-fad661bee1cd",
   "metadata": {
    "tags": []
   },
   "outputs": [
    {
     "data": {
      "text/plain": [
       "array([ 4, 10,  9,  1,  3,  6,  9, 12, 10, 11, 10, 10, 11, 11,  4, 10, 11,\n",
       "        4,  8, 10,  8,  4,  1, 11,  8,  6,  6,  8,  3,  9, 10,  0,  4, 10,\n",
       "        1,  0,  0,  7,  5,  0,  5, 10,  1,  0, 11,  7,  6,  9, 12,  1])"
      ]
     },
     "execution_count": 5,
     "metadata": {},
     "output_type": "execute_result"
    }
   ],
   "source": [
    "a"
   ]
  },
  {
   "cell_type": "code",
   "execution_count": 14,
   "id": "398daa0e-8f55-4d38-8561-114ae91455db",
   "metadata": {
    "tags": []
   },
   "outputs": [
    {
     "data": {
      "text/plain": [
       "array([ 0, 14, 17, 21, 32], dtype=int64)"
      ]
     },
     "execution_count": 14,
     "metadata": {},
     "output_type": "execute_result"
    }
   ],
   "source": [
    "indeces = np.where(a==4)[0]"
   ]
  }
 ],
 "metadata": {
  "kernelspec": {
   "display_name": "Python 3 (ipykernel)",
   "language": "python",
   "name": "python3"
  },
  "language_info": {
   "codemirror_mode": {
    "name": "ipython",
    "version": 3
   },
   "file_extension": ".py",
   "mimetype": "text/x-python",
   "name": "python",
   "nbconvert_exporter": "python",
   "pygments_lexer": "ipython3",
   "version": "3.11.3"
  }
 },
 "nbformat": 4,
 "nbformat_minor": 5
}
